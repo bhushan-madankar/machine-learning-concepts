{
 "cells": [
  {
   "cell_type": "code",
   "execution_count": 4,
   "metadata": {},
   "outputs": [
    {
     "name": "stdout",
     "output_type": "stream",
     "text": [
      "Collecting plotly\n",
      "  Downloading plotly-6.0.0-py3-none-any.whl.metadata (5.6 kB)\n",
      "Collecting narwhals>=1.15.1 (from plotly)\n",
      "  Downloading narwhals-1.25.2-py3-none-any.whl.metadata (10 kB)\n",
      "Requirement already satisfied: packaging in c:\\users\\bmada\\appdata\\roaming\\python\\python313\\site-packages (from plotly) (24.2)\n",
      "Downloading plotly-6.0.0-py3-none-any.whl (14.8 MB)\n",
      "   ---------------------------------------- 0.0/14.8 MB ? eta -:--:--\n",
      "    --------------------------------------- 0.3/14.8 MB ? eta -:--:--\n",
      "   -- ------------------------------------- 0.8/14.8 MB 2.8 MB/s eta 0:00:05\n",
      "   ---- ----------------------------------- 1.6/14.8 MB 3.1 MB/s eta 0:00:05\n",
      "   ----- ---------------------------------- 2.1/14.8 MB 2.7 MB/s eta 0:00:05\n",
      "   ------- -------------------------------- 2.6/14.8 MB 2.9 MB/s eta 0:00:05\n",
      "   --------- ------------------------------ 3.4/14.8 MB 3.0 MB/s eta 0:00:04\n",
      "   ----------- ---------------------------- 4.2/14.8 MB 3.1 MB/s eta 0:00:04\n",
      "   ------------- -------------------------- 5.0/14.8 MB 3.2 MB/s eta 0:00:04\n",
      "   -------------- ------------------------- 5.5/14.8 MB 3.2 MB/s eta 0:00:03\n",
      "   ---------------- ----------------------- 6.3/14.8 MB 3.2 MB/s eta 0:00:03\n",
      "   ------------------- -------------------- 7.1/14.8 MB 3.3 MB/s eta 0:00:03\n",
      "   --------------------- ------------------ 7.9/14.8 MB 3.3 MB/s eta 0:00:03\n",
      "   ----------------------- ---------------- 8.7/14.8 MB 3.3 MB/s eta 0:00:02\n",
      "   ------------------------- -------------- 9.4/14.8 MB 3.3 MB/s eta 0:00:02\n",
      "   -------------------------- ------------- 10.0/14.8 MB 3.3 MB/s eta 0:00:02\n",
      "   ----------------------------- ---------- 10.7/14.8 MB 3.3 MB/s eta 0:00:02\n",
      "   ------------------------------ --------- 11.3/14.8 MB 3.3 MB/s eta 0:00:02\n",
      "   --------------------------------- ------ 12.3/14.8 MB 3.4 MB/s eta 0:00:01\n",
      "   ----------------------------------- ---- 13.1/14.8 MB 3.4 MB/s eta 0:00:01\n",
      "   ------------------------------------- -- 13.9/14.8 MB 3.4 MB/s eta 0:00:01\n",
      "   ---------------------------------------  14.7/14.8 MB 3.4 MB/s eta 0:00:01\n",
      "   ---------------------------------------- 14.8/14.8 MB 3.4 MB/s eta 0:00:00\n",
      "Downloading narwhals-1.25.2-py3-none-any.whl (305 kB)\n",
      "Installing collected packages: narwhals, plotly\n",
      "Successfully installed narwhals-1.25.2 plotly-6.0.0\n",
      "Note: you may need to restart the kernel to use updated packages.\n"
     ]
    },
    {
     "name": "stderr",
     "output_type": "stream",
     "text": [
      "\n",
      "[notice] A new release of pip is available: 24.3.1 -> 25.0\n",
      "[notice] To update, run: python.exe -m pip install --upgrade pip\n"
     ]
    }
   ],
   "source": [
    "pip install plotly"
   ]
  },
  {
   "cell_type": "code",
   "execution_count": 5,
   "metadata": {},
   "outputs": [],
   "source": [
    "import numpy as np\n",
    "import matplotlib.pyplot as plt\n",
    "import pandas as pd\n",
    "from sklearn.datasets import make_regression\n",
    "import plotly.express as px\n",
    "import plotly.graph_objects as go\n",
    "from sklearn.metrics import mean_squared_error,mean_absolute_error,r2_score\n"
   ]
  },
  {
   "cell_type": "code",
   "execution_count": null,
   "metadata": {},
   "outputs": [],
   "source": []
  }
 ],
 "metadata": {
  "kernelspec": {
   "display_name": "Python 3",
   "language": "python",
   "name": "python3"
  },
  "language_info": {
   "codemirror_mode": {
    "name": "ipython",
    "version": 3
   },
   "file_extension": ".py",
   "mimetype": "text/x-python",
   "name": "python",
   "nbconvert_exporter": "python",
   "pygments_lexer": "ipython3",
   "version": "3.13.1"
  }
 },
 "nbformat": 4,
 "nbformat_minor": 2
}
